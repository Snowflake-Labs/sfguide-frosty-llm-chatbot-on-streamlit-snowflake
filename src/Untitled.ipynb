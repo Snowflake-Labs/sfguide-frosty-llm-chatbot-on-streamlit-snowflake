{
 "cells": [
  {
   "cell_type": "code",
   "execution_count": 1,
   "id": "b085936c",
   "metadata": {},
   "outputs": [
    {
     "name": "stdout",
     "output_type": "stream",
     "text": [
      "Collecting sdv\n",
      "  Downloading sdv-1.7.0-py2.py3-none-any.whl.metadata (96 kB)\n",
      "\u001b[2K     \u001b[90m━━━━━━━━━━━━━━━━━━━━━━━━━━━━━━━━━━━━━━━━\u001b[0m \u001b[32m96.4/96.4 kB\u001b[0m \u001b[31m2.2 MB/s\u001b[0m eta \u001b[36m0:00:00\u001b[0ma \u001b[36m0:00:01\u001b[0m\n",
      "\u001b[?25hRequirement already satisfied: boto3<2,>=1.15.0 in /Users/tbuchhorn/opt/anaconda3/lib/python3.8/site-packages (from sdv) (1.29.1)\n",
      "Requirement already satisfied: botocore<2,>=1.18 in /Users/tbuchhorn/opt/anaconda3/lib/python3.8/site-packages (from sdv) (1.32.1)\n",
      "Collecting cloudpickle<3.0,>=2.1.0 (from sdv)\n",
      "  Downloading cloudpickle-2.2.1-py3-none-any.whl (25 kB)\n",
      "Collecting graphviz<1,>=0.13.2 (from sdv)\n",
      "  Downloading graphviz-0.20.1-py3-none-any.whl (47 kB)\n",
      "\u001b[2K     \u001b[90m━━━━━━━━━━━━━━━━━━━━━━━━━━━━━━━━━━━━━━━━\u001b[0m \u001b[32m47.0/47.0 kB\u001b[0m \u001b[31m4.2 MB/s\u001b[0m eta \u001b[36m0:00:00\u001b[0m\n",
      "\u001b[?25hRequirement already satisfied: tqdm<5,>=4.15 in /Users/tbuchhorn/opt/anaconda3/lib/python3.8/site-packages (from sdv) (4.65.0)\n",
      "Collecting copulas<0.10,>=0.9.0 (from sdv)\n",
      "  Downloading copulas-0.9.2-py2.py3-none-any.whl.metadata (21 kB)\n",
      "Collecting ctgan<0.8,>=0.7.4 (from sdv)\n",
      "  Downloading ctgan-0.7.5-py2.py3-none-any.whl.metadata (21 kB)\n",
      "Collecting deepecho<0.6,>=0.5 (from sdv)\n",
      "  Downloading deepecho-0.5.0-py2.py3-none-any.whl.metadata (15 kB)\n",
      "Collecting rdt<2,>=1.9.0 (from sdv)\n",
      "  Downloading rdt-1.9.0-py2.py3-none-any.whl.metadata (63 kB)\n",
      "\u001b[2K     \u001b[90m━━━━━━━━━━━━━━━━━━━━━━━━━━━━━━━━━━━━━━━━\u001b[0m \u001b[32m63.8/63.8 kB\u001b[0m \u001b[31m5.4 MB/s\u001b[0m eta \u001b[36m0:00:00\u001b[0m\n",
      "\u001b[?25hCollecting sdmetrics<0.13,>=0.12.1 (from sdv)\n",
      "  Downloading sdmetrics-0.12.1-py2.py3-none-any.whl.metadata (38 kB)\n",
      "Requirement already satisfied: numpy<2,>=1.20.0 in /Users/tbuchhorn/opt/anaconda3/lib/python3.8/site-packages (from sdv) (1.23.4)\n",
      "Requirement already satisfied: pandas>=1.1.3 in /Users/tbuchhorn/opt/anaconda3/lib/python3.8/site-packages (from sdv) (1.5.3)\n",
      "Requirement already satisfied: jmespath<2.0.0,>=0.7.1 in /Users/tbuchhorn/opt/anaconda3/lib/python3.8/site-packages (from boto3<2,>=1.15.0->sdv) (1.0.1)\n",
      "Requirement already satisfied: s3transfer<0.8.0,>=0.7.0 in /Users/tbuchhorn/opt/anaconda3/lib/python3.8/site-packages (from boto3<2,>=1.15.0->sdv) (0.7.0)\n",
      "Requirement already satisfied: python-dateutil<3.0.0,>=2.1 in /Users/tbuchhorn/opt/anaconda3/lib/python3.8/site-packages (from botocore<2,>=1.18->sdv) (2.8.2)\n",
      "Requirement already satisfied: urllib3<1.27,>=1.25.4 in /Users/tbuchhorn/opt/anaconda3/lib/python3.8/site-packages (from botocore<2,>=1.18->sdv) (1.26.18)\n",
      "Requirement already satisfied: matplotlib<4,>=3.4.0 in /Users/tbuchhorn/opt/anaconda3/lib/python3.8/site-packages (from copulas<0.10,>=0.9.0->sdv) (3.7.2)\n",
      "Requirement already satisfied: scipy<2,>=1.5.4 in /Users/tbuchhorn/opt/anaconda3/lib/python3.8/site-packages (from copulas<0.10,>=0.9.0->sdv) (1.9.1)\n",
      "Collecting torch>=1.8.0 (from ctgan<0.8,>=0.7.4->sdv)\n",
      "  Downloading torch-2.1.1-cp38-none-macosx_10_9_x86_64.whl.metadata (25 kB)\n",
      "Requirement already satisfied: pytz>=2020.1 in /Users/tbuchhorn/opt/anaconda3/lib/python3.8/site-packages (from pandas>=1.1.3->sdv) (2023.3.post1)\n",
      "Collecting Faker<20,>=17 (from rdt<2,>=1.9.0->sdv)\n",
      "  Downloading Faker-19.13.0-py3-none-any.whl.metadata (15 kB)\n",
      "Requirement already satisfied: scikit-learn<2,>=0.24 in /Users/tbuchhorn/opt/anaconda3/lib/python3.8/site-packages (from rdt<2,>=1.9.0->sdv) (1.2.2)\n",
      "Collecting plotly<6,>=5.10.0 (from sdmetrics<0.13,>=0.12.1->sdv)\n",
      "  Downloading plotly-5.18.0-py3-none-any.whl.metadata (7.0 kB)\n",
      "Requirement already satisfied: typing-extensions>=3.10.0.1 in /Users/tbuchhorn/opt/anaconda3/lib/python3.8/site-packages (from Faker<20,>=17->rdt<2,>=1.9.0->sdv) (4.7.1)\n",
      "Requirement already satisfied: contourpy>=1.0.1 in /Users/tbuchhorn/opt/anaconda3/lib/python3.8/site-packages (from matplotlib<4,>=3.4.0->copulas<0.10,>=0.9.0->sdv) (1.0.5)\n",
      "Requirement already satisfied: cycler>=0.10 in /Users/tbuchhorn/opt/anaconda3/lib/python3.8/site-packages (from matplotlib<4,>=3.4.0->copulas<0.10,>=0.9.0->sdv) (0.11.0)\n",
      "Requirement already satisfied: fonttools>=4.22.0 in /Users/tbuchhorn/opt/anaconda3/lib/python3.8/site-packages (from matplotlib<4,>=3.4.0->copulas<0.10,>=0.9.0->sdv) (4.25.0)\n",
      "Requirement already satisfied: kiwisolver>=1.0.1 in /Users/tbuchhorn/opt/anaconda3/lib/python3.8/site-packages (from matplotlib<4,>=3.4.0->copulas<0.10,>=0.9.0->sdv) (1.4.4)\n",
      "Requirement already satisfied: packaging>=20.0 in /Users/tbuchhorn/opt/anaconda3/lib/python3.8/site-packages (from matplotlib<4,>=3.4.0->copulas<0.10,>=0.9.0->sdv) (23.1)\n",
      "Requirement already satisfied: pillow>=6.2.0 in /Users/tbuchhorn/opt/anaconda3/lib/python3.8/site-packages (from matplotlib<4,>=3.4.0->copulas<0.10,>=0.9.0->sdv) (10.0.1)\n",
      "Requirement already satisfied: pyparsing<3.1,>=2.3.1 in /Users/tbuchhorn/opt/anaconda3/lib/python3.8/site-packages (from matplotlib<4,>=3.4.0->copulas<0.10,>=0.9.0->sdv) (3.0.9)\n",
      "Requirement already satisfied: importlib-resources>=3.2.0 in /Users/tbuchhorn/opt/anaconda3/lib/python3.8/site-packages (from matplotlib<4,>=3.4.0->copulas<0.10,>=0.9.0->sdv) (6.1.0)\n",
      "Requirement already satisfied: tenacity>=6.2.0 in /Users/tbuchhorn/opt/anaconda3/lib/python3.8/site-packages (from plotly<6,>=5.10.0->sdmetrics<0.13,>=0.12.1->sdv) (8.2.2)\n",
      "Requirement already satisfied: six>=1.5 in /Users/tbuchhorn/opt/anaconda3/lib/python3.8/site-packages (from python-dateutil<3.0.0,>=2.1->botocore<2,>=1.18->sdv) (1.16.0)\n",
      "Requirement already satisfied: joblib>=1.1.1 in /Users/tbuchhorn/opt/anaconda3/lib/python3.8/site-packages (from scikit-learn<2,>=0.24->rdt<2,>=1.9.0->sdv) (1.2.0)\n",
      "Requirement already satisfied: threadpoolctl>=2.0.0 in /Users/tbuchhorn/opt/anaconda3/lib/python3.8/site-packages (from scikit-learn<2,>=0.24->rdt<2,>=1.9.0->sdv) (2.2.0)\n",
      "Requirement already satisfied: filelock in /Users/tbuchhorn/opt/anaconda3/lib/python3.8/site-packages (from torch>=1.8.0->ctgan<0.8,>=0.7.4->sdv) (3.12.4)\n",
      "Requirement already satisfied: sympy in /Users/tbuchhorn/opt/anaconda3/lib/python3.8/site-packages (from torch>=1.8.0->ctgan<0.8,>=0.7.4->sdv) (1.12)\n",
      "Requirement already satisfied: networkx in /Users/tbuchhorn/opt/anaconda3/lib/python3.8/site-packages (from torch>=1.8.0->ctgan<0.8,>=0.7.4->sdv) (3.1)\n",
      "Requirement already satisfied: jinja2 in /Users/tbuchhorn/opt/anaconda3/lib/python3.8/site-packages (from torch>=1.8.0->ctgan<0.8,>=0.7.4->sdv) (3.1.2)\n",
      "Requirement already satisfied: fsspec in /Users/tbuchhorn/opt/anaconda3/lib/python3.8/site-packages (from torch>=1.8.0->ctgan<0.8,>=0.7.4->sdv) (2023.10.0)\n",
      "Requirement already satisfied: zipp>=3.1.0 in /Users/tbuchhorn/opt/anaconda3/lib/python3.8/site-packages (from importlib-resources>=3.2.0->matplotlib<4,>=3.4.0->copulas<0.10,>=0.9.0->sdv) (3.11.0)\n",
      "Requirement already satisfied: MarkupSafe>=2.0 in /Users/tbuchhorn/opt/anaconda3/lib/python3.8/site-packages (from jinja2->torch>=1.8.0->ctgan<0.8,>=0.7.4->sdv) (2.1.1)\n",
      "Requirement already satisfied: mpmath>=0.19 in /Users/tbuchhorn/opt/anaconda3/lib/python3.8/site-packages (from sympy->torch>=1.8.0->ctgan<0.8,>=0.7.4->sdv) (1.3.0)\n",
      "Downloading sdv-1.7.0-py2.py3-none-any.whl (135 kB)\n",
      "\u001b[2K   \u001b[90m━━━━━━━━━━━━━━━━━━━━━━━━━━━━━━━━━━━━━━━━\u001b[0m \u001b[32m135.4/135.4 kB\u001b[0m \u001b[31m5.8 MB/s\u001b[0m eta \u001b[36m0:00:00\u001b[0m\n",
      "\u001b[?25hDownloading copulas-0.9.2-py2.py3-none-any.whl (54 kB)\n",
      "\u001b[2K   \u001b[90m━━━━━━━━━━━━━━━━━━━━━━━━━━━━━━━━━━━━━━━━\u001b[0m \u001b[32m54.6/54.6 kB\u001b[0m \u001b[31m3.9 MB/s\u001b[0m eta \u001b[36m0:00:00\u001b[0m\n",
      "\u001b[?25hDownloading ctgan-0.7.5-py2.py3-none-any.whl (27 kB)\n",
      "Downloading deepecho-0.5.0-py2.py3-none-any.whl (29 kB)\n",
      "Downloading rdt-1.9.0-py2.py3-none-any.whl (74 kB)\n",
      "\u001b[2K   \u001b[90m━━━━━━━━━━━━━━━━━━━━━━━━━━━━━━━━━━━━━━━━\u001b[0m \u001b[32m74.8/74.8 kB\u001b[0m \u001b[31m7.2 MB/s\u001b[0m eta \u001b[36m0:00:00\u001b[0m\n",
      "\u001b[?25hDownloading sdmetrics-0.12.1-py2.py3-none-any.whl (165 kB)\n",
      "\u001b[2K   \u001b[90m━━━━━━━━━━━━━━━━━━━━━━━━━━━━━━━━━━━━━━━━\u001b[0m \u001b[32m165.4/165.4 kB\u001b[0m \u001b[31m5.6 MB/s\u001b[0m eta \u001b[36m0:00:00\u001b[0m\n",
      "\u001b[?25hDownloading Faker-19.13.0-py3-none-any.whl (1.7 MB)\n",
      "\u001b[2K   \u001b[90m━━━━━━━━━━━━━━━━━━━━━━━━━━━━━━━━━━━━━━━━\u001b[0m \u001b[32m1.7/1.7 MB\u001b[0m \u001b[31m8.0 MB/s\u001b[0m eta \u001b[36m0:00:00\u001b[0ma \u001b[36m0:00:01\u001b[0mm\n",
      "\u001b[?25hDownloading plotly-5.18.0-py3-none-any.whl (15.6 MB)\n",
      "\u001b[2K   \u001b[90m━━━━━━━━━━━━━━━━━━━━━━━━━━━━━━━━━━━━━━━━\u001b[0m \u001b[32m15.6/15.6 MB\u001b[0m \u001b[31m6.9 MB/s\u001b[0m eta \u001b[36m0:00:00\u001b[0m00:01\u001b[0m00:01\u001b[0m\n",
      "\u001b[?25hDownloading torch-2.1.1-cp38-none-macosx_10_9_x86_64.whl (146.7 MB)\n"
     ]
    },
    {
     "name": "stdout",
     "output_type": "stream",
     "text": [
      "\u001b[2K   \u001b[90m━━━━━━━━━━━━━━━━━━━━━━━━━━━━━━━━━━━━━━━━\u001b[0m \u001b[32m146.7/146.7 MB\u001b[0m \u001b[31m4.2 MB/s\u001b[0m eta \u001b[36m0:00:00\u001b[0m00:01\u001b[0m00:01\u001b[0m\n",
      "\u001b[?25hInstalling collected packages: plotly, graphviz, cloudpickle, torch, Faker, rdt, deepecho, copulas, sdmetrics, ctgan, sdv\n",
      "  Attempting uninstall: plotly\n",
      "    Found existing installation: plotly 5.9.0\n",
      "    Uninstalling plotly-5.9.0:\n",
      "      Successfully uninstalled plotly-5.9.0\n",
      "  Attempting uninstall: cloudpickle\n",
      "    Found existing installation: cloudpickle 2.0.0\n",
      "    Uninstalling cloudpickle-2.0.0:\n",
      "      Successfully uninstalled cloudpickle-2.0.0\n",
      "\u001b[31mERROR: pip's dependency resolver does not currently take into account all the packages that are installed. This behaviour is the source of the following dependency conflicts.\n",
      "spyder 5.1.5 requires pyqt5<5.13, which is not installed.\n",
      "spyder 5.1.5 requires pyqtwebengine<5.13, which is not installed.\n",
      "snowflake-snowpark-python 1.9.0 requires cloudpickle<=2.0.0,>=1.6.0; python_version < \"3.11\", but you have cloudpickle 2.2.1 which is incompatible.\n",
      "snowflake-snowpark-python 1.9.0 requires snowflake-connector-python<4.0.0,>=3.2.0, but you have snowflake-connector-python 2.7.12 which is incompatible.\u001b[0m\u001b[31m\n",
      "\u001b[0mSuccessfully installed Faker-19.13.0 cloudpickle-2.2.1 copulas-0.9.2 ctgan-0.7.5 deepecho-0.5.0 graphviz-0.20.1 plotly-5.18.0 rdt-1.9.0 sdmetrics-0.12.1 sdv-1.7.0 torch-2.1.1\n"
     ]
    }
   ],
   "source": [
    "!pip install sdv"
   ]
  },
  {
   "cell_type": "code",
   "execution_count": 2,
   "id": "5f6152e8",
   "metadata": {},
   "outputs": [],
   "source": [
    "import pandas as pd"
   ]
  },
  {
   "cell_type": "code",
   "execution_count": 4,
   "id": "e71c36fb",
   "metadata": {},
   "outputs": [
    {
     "data": {
      "text/html": [
       "<div>\n",
       "<style scoped>\n",
       "    .dataframe tbody tr th:only-of-type {\n",
       "        vertical-align: middle;\n",
       "    }\n",
       "\n",
       "    .dataframe tbody tr th {\n",
       "        vertical-align: top;\n",
       "    }\n",
       "\n",
       "    .dataframe thead th {\n",
       "        text-align: right;\n",
       "    }\n",
       "</style>\n",
       "<table border=\"1\" class=\"dataframe\">\n",
       "  <thead>\n",
       "    <tr style=\"text-align: right;\">\n",
       "      <th></th>\n",
       "      <th>id</th>\n",
       "      <th>age_range</th>\n",
       "      <th>state</th>\n",
       "      <th>delinquent</th>\n",
       "    </tr>\n",
       "  </thead>\n",
       "  <tbody>\n",
       "    <tr>\n",
       "      <th>0</th>\n",
       "      <td>1</td>\n",
       "      <td>18-25</td>\n",
       "      <td>NSW</td>\n",
       "      <td>False</td>\n",
       "    </tr>\n",
       "    <tr>\n",
       "      <th>1</th>\n",
       "      <td>2</td>\n",
       "      <td>26-35</td>\n",
       "      <td>NSW</td>\n",
       "      <td>True</td>\n",
       "    </tr>\n",
       "    <tr>\n",
       "      <th>2</th>\n",
       "      <td>3</td>\n",
       "      <td>26-35</td>\n",
       "      <td>VIC</td>\n",
       "      <td>False</td>\n",
       "    </tr>\n",
       "  </tbody>\n",
       "</table>\n",
       "</div>"
      ],
      "text/plain": [
       "   id age_range state  delinquent\n",
       "0   1     18-25   NSW       False\n",
       "1   2     26-35   NSW        True\n",
       "2   3     26-35   VIC       False"
      ]
     },
     "execution_count": 4,
     "metadata": {},
     "output_type": "execute_result"
    }
   ],
   "source": [
    "data = pd.read_csv('demographics.csv')\n",
    "data.head()"
   ]
  },
  {
   "cell_type": "code",
   "execution_count": 5,
   "id": "1fc5aaab",
   "metadata": {},
   "outputs": [
    {
     "ename": "ModuleNotFoundError",
     "evalue": "No module named 'sdv.tabular'",
     "output_type": "error",
     "traceback": [
      "\u001b[0;31m---------------------------------------------------------------------------\u001b[0m",
      "\u001b[0;31mModuleNotFoundError\u001b[0m                       Traceback (most recent call last)",
      "Cell \u001b[0;32mIn[5], line 1\u001b[0m\n\u001b[0;32m----> 1\u001b[0m \u001b[38;5;28;01mfrom\u001b[39;00m \u001b[38;5;21;01msdv\u001b[39;00m\u001b[38;5;21;01m.\u001b[39;00m\u001b[38;5;21;01mtabular\u001b[39;00m \u001b[38;5;28;01mimport\u001b[39;00m GaussianCopula\n\u001b[1;32m      2\u001b[0m model \u001b[38;5;241m=\u001b[39m GaussianCopula()\n\u001b[1;32m      3\u001b[0m model\u001b[38;5;241m.\u001b[39mfit(data)\n",
      "\u001b[0;31mModuleNotFoundError\u001b[0m: No module named 'sdv.tabular'"
     ]
    }
   ],
   "source": [
    "from sdv.tabular import GaussianCopula\n",
    "model = GaussianCopula()\n",
    "model.fit(data)"
   ]
  },
  {
   "cell_type": "code",
   "execution_count": null,
   "id": "d96c7c90",
   "metadata": {},
   "outputs": [],
   "source": [
    "sample = model.sample(200)\n",
    "sample.head()"
   ]
  }
 ],
 "metadata": {
  "kernelspec": {
   "display_name": "Python 3 (ipykernel)",
   "language": "python",
   "name": "python3"
  },
  "language_info": {
   "codemirror_mode": {
    "name": "ipython",
    "version": 3
   },
   "file_extension": ".py",
   "mimetype": "text/x-python",
   "name": "python",
   "nbconvert_exporter": "python",
   "pygments_lexer": "ipython3",
   "version": "3.8.18"
  }
 },
 "nbformat": 4,
 "nbformat_minor": 5
}
